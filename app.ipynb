{
 "cells": [
  {
   "attachments": {},
   "cell_type": "markdown",
   "metadata": {},
   "source": [
    "## Importando bibliotecas"
   ]
  },
  {
   "cell_type": "code",
   "execution_count": null,
   "metadata": {},
   "outputs": [],
   "source": [
    "from tkinter import *\n",
    "from pytube import YouTube\n",
    "from tkinter import filedialog\n",
    "from pytube.exceptions import RegexMatchError\n",
    "import pytube"
   ]
  },
  {
   "attachments": {},
   "cell_type": "markdown",
   "metadata": {},
   "source": [
    "## Código"
   ]
  },
  {
   "cell_type": "code",
   "execution_count": null,
   "metadata": {},
   "outputs": [],
   "source": [
    "root = Tk()\n",
    "root.title('Youtube Video Downloader')\n",
    "h = 160\n",
    "w = 900\n",
    "root.geometry(f'{w}x{h}')\n",
    "\n",
    "texto_link = Label(root, text='Inserir link: ', font='arial 12 bold')\n",
    "texto_link.grid(row=0, column=0)\n",
    "\n",
    "link = Entry(root, font='arial 20', width=50)\n",
    "link.grid(row=0, column=1)\n",
    "\n",
    "botao = Button(root, bg='green', text='BAIXAR', bd=1, fg='white', width=6, height=2, command=lambda: download(link.get()))\n",
    "botao.grid(row=0, column=2)\n",
    "\n",
    "quadro = Frame(root, borderwidth=1,relief='solid')\n",
    "quadro.place(x=10,y=50,width=w-20, height=100)\n",
    "\n",
    "terminal = Label(quadro, text='Terminal: ', font='arial 10 bold')\n",
    "terminal.place(x=5, y=5)\n",
    "\n",
    "aviso = Label(quadro, text='', font='arial 10 bold')\n",
    "aviso.place(x=75, y=25)\n",
    "\n",
    "def download_concluido():\n",
    "\taviso.config(text='Download Concluído!')\n",
    "\n",
    "def erro():\n",
    "    aviso.config(text='Por favor, insira um link válido')\n",
    "    \n",
    "def download(link_):\n",
    "    if link_:\n",
    "        try:\n",
    "            pasta = filedialog.askdirectory()\n",
    "            YouTube(link_).streams.get_highest_resolution().download()\n",
    "            download_concluido()\n",
    "        except RegexMatchError:\n",
    "            erro()\n",
    "    else:\n",
    "        erro()\n",
    "\n",
    "root.mainloop()"
   ]
  }
 ],
 "metadata": {
  "kernelspec": {
   "display_name": "Python 3",
   "language": "python",
   "name": "python3"
  },
  "language_info": {
   "name": "python",
   "version": "3.10.4"
  },
  "orig_nbformat": 4,
  "vscode": {
   "interpreter": {
    "hash": "ca39f88a2d38a95affbacc4b81fd00a2dd957c0206b925676ce258144ab36f3b"
   }
  }
 },
 "nbformat": 4,
 "nbformat_minor": 2
}
