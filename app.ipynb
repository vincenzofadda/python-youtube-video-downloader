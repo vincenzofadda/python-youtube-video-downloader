{
 "cells": [
  {
   "attachments": {},
   "cell_type": "markdown",
   "metadata": {},
   "source": [
    "## Importando bibliotecas"
   ]
  },
  {
   "cell_type": "code",
   "execution_count": null,
   "metadata": {},
   "outputs": [],
   "source": [
    "from tkinter import *\n",
    "from pytube import YouTube\n",
    "from tkinter import filedialog\n",
    "import pytube"
   ]
  },
  {
   "attachments": {},
   "cell_type": "markdown",
   "metadata": {},
   "source": [
    "## Código"
   ]
  },
  {
   "cell_type": "code",
   "execution_count": null,
   "metadata": {},
   "outputs": [],
   "source": [
    "root = Tk()\n",
    "root.title('Youtube Video Downlaoder')\n",
    "\n",
    "def download(link_):\n",
    "    if link_:\n",
    "        try:\n",
    "            pasta = filedialog.askdirectory()\n",
    "            YouTube(link_).streams.get_highest_resolution().download()\n",
    "            aviso()\n",
    "        except RegexMatchError:\n",
    "            erro()\n",
    "    else:\n",
    "        erro()\n",
    "    \n",
    "def aviso():\n",
    "    msg = Toplevel()\n",
    "    msg.title('Aviso')\n",
    "    msg.geometry('300x200')\n",
    "    Label(msg, text='Download concluído', font='arial 12 bold', pady=30).pack()\n",
    "    Button(msg, text='OK', command=lambda: msg.destroy()).pack()\n",
    "    \n",
    "def erro():\n",
    "    msg = Toplevel()\n",
    "    msg.title('Aviso')\n",
    "    msg.geometry('300x200')\n",
    "    Label(msg, text='Insira um link válido', font='arial 12 bold', pady=30).pack()\n",
    "    Button(msg, text='OK', command=lambda: msg.destroy()).pack()\n",
    "\n",
    "quadro = Frame(root)\n",
    "quadro.pack()\n",
    "\n",
    "Label(quadro, text='Inserir link: ', font='arial 12 bold').pack(side='left')\n",
    "link = Entry(quadro, font='arial 20', width=50)\n",
    "link.pack(side='left')\n",
    "\n",
    "Button(root, bg='green', text='OK', bd=1, fg='white', width=4, height=2, command=lambda: download(link.get())).pack(side='right')\n",
    "      \n",
    "root.mainloop()"
   ]
  }
 ],
 "metadata": {
  "language_info": {
   "name": "python"
  },
  "orig_nbformat": 4
 },
 "nbformat": 4,
 "nbformat_minor": 2
}
